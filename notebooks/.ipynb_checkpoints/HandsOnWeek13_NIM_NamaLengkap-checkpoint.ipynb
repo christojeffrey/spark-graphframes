{
 "cells": [
  {
   "cell_type": "markdown",
   "metadata": {
    "id": "7hLDMHsxHVa2"
   },
   "source": [
    "# HandsOn Week 13\n",
    "Welcome to handsOn week 13: graph in distributed system, using GraphFrames. To use GraphFrames, you need to run ```pyspark --packages graphframes:graphframes:0.8.0-spark2.4-s_2.11``` (adjust with your Spark version. That script uses Spark 2.4.x, the one used in our VM, and it will download the graphframes package automatically, thus, make sure you have internet connection when launching the script).\n",
    "\n",
    "Note: you can use any Spark & GraphFrames API (without building from-the-scratch)."
   ]
  },
  {
   "cell_type": "markdown",
   "metadata": {
    "id": "_oZZHnE9HVa6"
   },
   "source": [
    "### Read The Dataset and Build The Graph"
   ]
  },
  {
   "cell_type": "code",
   "execution_count": 2,
   "metadata": {
    "id": "nCHrFbPEHVa7",
    "outputId": "737a7bfd-4c3a-4d7b-aa31-18b7676eb00f",
    "tags": []
   },
   "outputs": [
    {
     "name": "stdout",
     "output_type": "stream",
     "text": [
      "+----------------+---------+---------+----------+\n",
      "|              id| latitude|longitude|population|\n",
      "+----------------+---------+---------+----------+\n",
      "|       Amsterdam| 52.37919| 4.899431|    821752|\n",
      "|         Utrecht|52.092876|  5.10448|    334176|\n",
      "|        Den Haag|52.078663| 4.288788|    514861|\n",
      "|       Immingham| 53.61239| -0.22219|      9642|\n",
      "|       Doncaster| 53.52285| -1.13116|    302400|\n",
      "|Hoek van Holland|  51.9775|  4.13333|      9382|\n",
      "|      Felixstowe| 51.96375|   1.3511|     23689|\n",
      "|         Ipswich| 52.05917|  1.15545|    133384|\n",
      "|      Colchester| 51.88921|  0.90421|    104390|\n",
      "|          London|51.509865|-0.118092|   8787892|\n",
      "|       Rotterdam|  51.9225|  4.47917|    623652|\n",
      "|           Gouda| 52.01667|  4.70833|     70939|\n",
      "+----------------+---------+---------+----------+\n",
      "\n",
      "+----------------+----------------+------------+-----+\n",
      "|             src|             dst|relationship| cost|\n",
      "+----------------+----------------+------------+-----+\n",
      "|       Amsterdam|         Utrecht|       EROAD| 46.0|\n",
      "|       Amsterdam|        Den Haag|       EROAD| 59.0|\n",
      "|        Den Haag|       Rotterdam|       EROAD| 26.0|\n",
      "|       Amsterdam|       Immingham|       EROAD|369.0|\n",
      "|       Immingham|       Doncaster|       EROAD| 74.0|\n",
      "|       Doncaster|          London|       EROAD|277.0|\n",
      "|Hoek van Holland|        Den Haag|       EROAD| 27.0|\n",
      "|      Felixstowe|Hoek van Holland|       EROAD|207.0|\n",
      "|         Ipswich|      Felixstowe|       EROAD| 22.0|\n",
      "|      Colchester|         Ipswich|       EROAD| 32.0|\n",
      "|          London|      Colchester|       EROAD|106.0|\n",
      "|           Gouda|       Rotterdam|       EROAD| 25.0|\n",
      "|           Gouda|         Utrecht|       EROAD| 35.0|\n",
      "|        Den Haag|           Gouda|       EROAD| 32.0|\n",
      "|Hoek van Holland|       Rotterdam|       EROAD| 33.0|\n",
      "|         Utrecht|       Amsterdam|       EROAD| 46.0|\n",
      "|        Den Haag|       Amsterdam|       EROAD| 59.0|\n",
      "|       Rotterdam|        Den Haag|       EROAD| 26.0|\n",
      "|       Immingham|       Amsterdam|       EROAD|369.0|\n",
      "|       Doncaster|       Immingham|       EROAD| 74.0|\n",
      "+----------------+----------------+------------+-----+\n",
      "only showing top 20 rows\n",
      "\n"
     ]
    }
   ],
   "source": [
    "from pyspark.sql.types import *\n",
    "from graphframes import *\n",
    "\n",
    "def create_transport_graph(nodes_filePath, edges_filePath):\n",
    "    node_fields = [\n",
    "        StructField(\"id\", StringType(), True),\n",
    "        StructField(\"latitude\", FloatType(), True),\n",
    "        StructField(\"longitude\", FloatType(), True),\n",
    "        StructField(\"population\", IntegerType(), True)\n",
    "    ]\n",
    "    nodes = spark.read.csv(nodes_filePath, header=True,schema=StructType(node_fields))\n",
    "    edge_fields = [\n",
    "        StructField(\"src\", StringType(), True),\n",
    "        StructField(\"dst\", StringType(), True),\n",
    "        StructField(\"relationship\", StringType(), True),\n",
    "        StructField(\"cost\", FloatType(), True)\n",
    "    ]\n",
    "    rels = spark.read.csv(edges_filePath, header=True, schema=StructType(edge_fields))\n",
    "    reversed_rels = (rels.withColumn(\"newSrc\", rels.dst)\n",
    "                     .withColumn(\"newDst\", rels.src)\n",
    "                     .drop(\"dst\", \"src\")\n",
    "                     .withColumnRenamed(\"newSrc\", \"src\")\n",
    "                     .withColumnRenamed(\"newDst\", \"dst\")\n",
    "                     .select(\"src\", \"dst\", \"relationship\", \"cost\"))\n",
    "    relationships = rels.union(reversed_rels)\n",
    "    return GraphFrame(nodes, relationships)\n",
    "\n",
    "g = create_transport_graph(\"./transport-nodes.csv\", \"./transport-relationships.csv\")\n",
    "g.vertices.show()\n",
    "g.edges.show()"
   ]
  },
  {
   "cell_type": "markdown",
   "metadata": {
    "id": "CyHKyhB4HVa9"
   },
   "source": [
    "## Milestone 01\n",
    "1. Find source-destination airport pair/pairs with maximum cost\n",
    "2. Find source-destination airport pair/pairs with minimum cost\n",
    "3. Calculate the average cost"
   ]
  },
  {
   "cell_type": "code",
   "execution_count": 3,
   "metadata": {
    "id": "9wW3CxDeHVa-"
   },
   "outputs": [
    {
     "name": "stdout",
     "output_type": "stream",
     "text": [
      "Minimum cost: 22.0\n",
      "Maximum cost: 369.0\n",
      "Average cost: 91.33333333333333\n"
     ]
    }
   ],
   "source": [
    "# write your code here\n",
    "# iterate through the edge and find the minimum, maximum, and average cost\n",
    "\n",
    "all_edge_cost = g.edges.select(\"cost\").collect()\n",
    "minimum = g.edges.select(\"cost\").collect()[0][0]\n",
    "maximum = g.edges.select(\"cost\").collect()[0][0]\n",
    "total = 0\n",
    "for edge in all_edge_cost:\n",
    "    if(edge[0] < minimum):\n",
    "        minimum = edge[0]\n",
    "    \n",
    "    if(edge[0] > maximum):\n",
    "        maximum = edge[0]\n",
    "    total += edge[0]\n",
    "\n",
    "\n",
    "average = total / len(all_edge_cost)\n",
    "# print the result\n",
    "print(\"Minimum cost: {}\".format(minimum))\n",
    "print(\"Maximum cost: {}\".format(maximum))\n",
    "print(\"Average cost: {}\".format(average))\n"
   ]
  },
  {
   "cell_type": "markdown",
   "metadata": {
    "id": "rLS6eCwNHVa-"
   },
   "source": [
    "### Milestone 02\n",
    "1. Find flight routes that have no direct connection"
   ]
  },
  {
   "cell_type": "code",
   "execution_count": 4,
   "metadata": {
    "id": "EYLUtm_UHVa-"
   },
   "outputs": [
    {
     "name": "stdout",
     "output_type": "stream",
     "text": [
      "Number of indirect connections: 102\n",
      "Indirect connections: [('Amsterdam', 'Doncaster'), ('Amsterdam', 'Hoek van Holland'), ('Amsterdam', 'Felixstowe'), ('Amsterdam', 'Ipswich'), ('Amsterdam', 'Colchester'), ('Amsterdam', 'London'), ('Amsterdam', 'Rotterdam'), ('Amsterdam', 'Gouda'), ('Utrecht', 'Den Haag'), ('Utrecht', 'Immingham'), ('Utrecht', 'Doncaster'), ('Utrecht', 'Hoek van Holland'), ('Utrecht', 'Felixstowe'), ('Utrecht', 'Ipswich'), ('Utrecht', 'Colchester'), ('Utrecht', 'London'), ('Utrecht', 'Rotterdam'), ('Den Haag', 'Utrecht'), ('Den Haag', 'Immingham'), ('Den Haag', 'Doncaster'), ('Den Haag', 'Felixstowe'), ('Den Haag', 'Ipswich'), ('Den Haag', 'Colchester'), ('Den Haag', 'London'), ('Immingham', 'Utrecht'), ('Immingham', 'Den Haag'), ('Immingham', 'Hoek van Holland'), ('Immingham', 'Felixstowe'), ('Immingham', 'Ipswich'), ('Immingham', 'Colchester'), ('Immingham', 'London'), ('Immingham', 'Rotterdam'), ('Immingham', 'Gouda'), ('Doncaster', 'Amsterdam'), ('Doncaster', 'Utrecht'), ('Doncaster', 'Den Haag'), ('Doncaster', 'Hoek van Holland'), ('Doncaster', 'Felixstowe'), ('Doncaster', 'Ipswich'), ('Doncaster', 'Colchester'), ('Doncaster', 'Rotterdam'), ('Doncaster', 'Gouda'), ('Hoek van Holland', 'Amsterdam'), ('Hoek van Holland', 'Utrecht'), ('Hoek van Holland', 'Immingham'), ('Hoek van Holland', 'Doncaster'), ('Hoek van Holland', 'Ipswich'), ('Hoek van Holland', 'Colchester'), ('Hoek van Holland', 'London'), ('Hoek van Holland', 'Gouda'), ('Felixstowe', 'Amsterdam'), ('Felixstowe', 'Utrecht'), ('Felixstowe', 'Den Haag'), ('Felixstowe', 'Immingham'), ('Felixstowe', 'Doncaster'), ('Felixstowe', 'Colchester'), ('Felixstowe', 'London'), ('Felixstowe', 'Rotterdam'), ('Felixstowe', 'Gouda'), ('Ipswich', 'Amsterdam'), ('Ipswich', 'Utrecht'), ('Ipswich', 'Den Haag'), ('Ipswich', 'Immingham'), ('Ipswich', 'Doncaster'), ('Ipswich', 'Hoek van Holland'), ('Ipswich', 'London'), ('Ipswich', 'Rotterdam'), ('Ipswich', 'Gouda'), ('Colchester', 'Amsterdam'), ('Colchester', 'Utrecht'), ('Colchester', 'Den Haag'), ('Colchester', 'Immingham'), ('Colchester', 'Doncaster'), ('Colchester', 'Hoek van Holland'), ('Colchester', 'Felixstowe'), ('Colchester', 'Rotterdam'), ('Colchester', 'Gouda'), ('London', 'Amsterdam'), ('London', 'Utrecht'), ('London', 'Den Haag'), ('London', 'Immingham'), ('London', 'Hoek van Holland'), ('London', 'Felixstowe'), ('London', 'Ipswich'), ('London', 'Rotterdam'), ('London', 'Gouda'), ('Rotterdam', 'Amsterdam'), ('Rotterdam', 'Utrecht'), ('Rotterdam', 'Immingham'), ('Rotterdam', 'Doncaster'), ('Rotterdam', 'Felixstowe'), ('Rotterdam', 'Ipswich'), ('Rotterdam', 'Colchester'), ('Rotterdam', 'London'), ('Gouda', 'Amsterdam'), ('Gouda', 'Immingham'), ('Gouda', 'Doncaster'), ('Gouda', 'Hoek van Holland'), ('Gouda', 'Felixstowe'), ('Gouda', 'Ipswich'), ('Gouda', 'Colchester'), ('Gouda', 'London')]\n"
     ]
    }
   ],
   "source": [
    "# write your code here\n",
    "\n",
    "all_cities = g.vertices.select(\"id\").collect()\n",
    "all_connections = g.edges.select(\"src\", \"dst\").collect()\n",
    "\n",
    "indirect_connections = []\n",
    "# iterate through the cities twice.  \n",
    "for city1 in all_cities:\n",
    "    for city2 in all_cities:\n",
    "        if(city1[0] != city2[0]):\n",
    "            if((city1[0], city2[0]) not in all_connections):\n",
    "                if((city2[0], city1[0]) not in all_connections):\n",
    "                    indirect_connections.append((city1[0], city2[0]))\n",
    "\n",
    "print(\"Number of indirect connections: {}\".format(len(indirect_connections)))\n",
    "print(\"Indirect connections: {}\".format(indirect_connections))\n"
   ]
  },
  {
   "cell_type": "markdown",
   "metadata": {
    "id": "PDAXEDQfHVa_"
   },
   "source": [
    "### Milestone 03\n",
    "1. Find the most important airport (you can use any measurement to judge the importance level of airports, and please describe why you choose it -the measurement-)"
   ]
  },
  {
   "cell_type": "code",
   "execution_count": 5,
   "metadata": {
    "id": "H-9Fl07jHVa_"
   },
   "outputs": [
    {
     "name": "stdout",
     "output_type": "stream",
     "text": [
      "City that show up the most in the relationship: Den Haag\n"
     ]
    }
   ],
   "source": [
    "# fint the city that show up the most in the relationship. if it has the most traffic, it probably is the most important city\n",
    "\n",
    "# all_connections\n",
    "city_count = {}\n",
    "for connection in all_connections:\n",
    "    if(connection[0] in city_count):\n",
    "        city_count[connection[0]] += 1\n",
    "    else:\n",
    "        city_count[connection[0]] = 1\n",
    "        \n",
    "    if(connection[1] in city_count):\n",
    "        city_count[connection[1]] += 1\n",
    "    else:\n",
    "        city_count[connection[1]] = 1\n",
    "\n",
    "max_city = \"\"\n",
    "max_count = 0\n",
    "for city in city_count:\n",
    "    if(city_count[city] > max_count):\n",
    "        max_count = city_count[city]\n",
    "        max_city = city\n",
    "\n",
    "print(\"City that show up the most in the relationship: {}\".format(max_city))\n",
    "    "
   ]
  },
  {
   "cell_type": "markdown",
   "metadata": {
    "id": "VJWe364AHVa_"
   },
   "source": [
    "### Milestone 04\n",
    "1. Find the sortest path based on \"node\" -path with fewest nodes- from Amsterdam to London "
   ]
  },
  {
   "cell_type": "code",
   "execution_count": 6,
   "metadata": {
    "id": "NsR6oQXHHVbA"
   },
   "outputs": [
    {
     "name": "stdout",
     "output_type": "stream",
     "text": [
      "path:  ['Amsterdam', 'Immingham', 'Doncaster', 'London']\n"
     ]
    }
   ],
   "source": [
    "# do dijkstra algorithm to find the shortest path from city Amsterdam to London\n",
    "\n",
    "\n",
    "edge = []\n",
    "for connection in all_connections:\n",
    "    edge.append([connection[0], connection[1], 1])\n",
    "\n",
    "\n",
    "# get all unique cities from edge\n",
    "nodes = []\n",
    "for connection in edge:\n",
    "    if(connection[0] not in nodes):\n",
    "        nodes.append(connection[0])\n",
    "    if(connection[1] not in nodes):\n",
    "        nodes.append(connection[1])\n",
    "    \n",
    "\n",
    "\n",
    "# all connection has a cost of 1\n",
    "def dijkstra(edge, nodes, start, goal):\n",
    "    # edge is an array of array start, end, cost\n",
    "    # nodes is an array of all nodes\n",
    "\n",
    "    visited = []\n",
    "    unvisited = nodes\n",
    "    distance = {}\n",
    "    previous = {}\n",
    "    for node in nodes:\n",
    "        distance[node] = float(\"inf\")\n",
    "        previous[node] = None\n",
    "    distance[start] = 0\n",
    "\n",
    "    while unvisited:\n",
    "        current = min(unvisited, key=distance.get)\n",
    "        if current == goal:\n",
    "            break\n",
    "        unvisited.remove(current)\n",
    "        visited.append(current)\n",
    "        for eachedge in edge:\n",
    "            src = eachedge[0]\n",
    "            dst = eachedge[1]\n",
    "            cost = eachedge[2]\n",
    "            if src == current:\n",
    "                if dst not in visited:\n",
    "                    new_distance = distance[current] + cost\n",
    "                    if new_distance < distance[dst]:\n",
    "                        distance[dst] = new_distance\n",
    "                        previous[dst] = current\n",
    "                    \n",
    "    path = []\n",
    "    current = goal\n",
    "    while current != start:\n",
    "        path.append(current)\n",
    "        current = previous[current]\n",
    "    path.append(start)\n",
    "    path.reverse()\n",
    "    return path\n",
    "\n",
    "\n",
    "\n",
    "\n",
    "\n",
    "\n",
    "path = dijkstra(edge, nodes, \"Amsterdam\", \"London\")\n",
    "print(\"path: \", path)"
   ]
  },
  {
   "cell_type": "markdown",
   "metadata": {
    "id": "EcyctgHZHVbA"
   },
   "source": [
    "### Bonus\n",
    "1. Find the sortest path based on \"cost value\" -see 'cost' column in the edge/relationship dataframe - from Amsterdam to London "
   ]
  },
  {
   "cell_type": "code",
   "execution_count": 7,
   "metadata": {
    "id": "kikAjkOKHVbA"
   },
   "outputs": [
    {
     "name": "stdout",
     "output_type": "stream",
     "text": [
      "path:  ['Amsterdam', 'Den Haag', 'Hoek van Holland', 'Felixstowe', 'Ipswich', 'Colchester', 'London']\n"
     ]
    }
   ],
   "source": [
    "# do dijkstra algorithm to find the shortest path from city Amsterdam to London with cost\n",
    "\n",
    "\n",
    "all_connections_with_cost = g.edges.select(\"src\", \"dst\", \"cost\").collect()\n",
    "edge = []\n",
    "\n",
    "for connection in all_connections_with_cost:\n",
    "    edge.append([connection[0], connection[1], connection[2]])\n",
    "\n",
    "\n",
    "# get all unique cities from edge\n",
    "nodes = []\n",
    "for connection in edge:\n",
    "    if(connection[0] not in nodes):\n",
    "        nodes.append(connection[0])\n",
    "    if(connection[1] not in nodes):\n",
    "        nodes.append(connection[1])\n",
    "    \n",
    "\n",
    "\n",
    "# all connection has a cost of 1\n",
    "def dijkstra(edge, nodes, start, goal):\n",
    "    # edge is an array of array start, end, cost\n",
    "    # nodes is an array of all nodes\n",
    "\n",
    "    visited = []\n",
    "    unvisited = nodes\n",
    "    distance = {}\n",
    "    previous = {}\n",
    "    for node in nodes:\n",
    "        distance[node] = float(\"inf\")\n",
    "        previous[node] = None\n",
    "    distance[start] = 0\n",
    "\n",
    "    while unvisited:\n",
    "        current = min(unvisited, key=distance.get)\n",
    "        if current == goal:\n",
    "            break\n",
    "        unvisited.remove(current)\n",
    "        visited.append(current)\n",
    "        for eachedge in edge:\n",
    "            src = eachedge[0]\n",
    "            dst = eachedge[1]\n",
    "            cost = eachedge[2]\n",
    "            if src == current:\n",
    "                if dst not in visited:\n",
    "                    new_distance = distance[current] + cost\n",
    "                    if new_distance < distance[dst]:\n",
    "                        distance[dst] = new_distance\n",
    "                        previous[dst] = current\n",
    "                    \n",
    "    path = []\n",
    "    current = goal\n",
    "    while current != start:\n",
    "        path.append(current)\n",
    "        current = previous[current]\n",
    "    path.append(start)\n",
    "    path.reverse()\n",
    "    return path\n",
    "\n",
    "\n",
    "\n",
    "\n",
    "\n",
    "path = dijkstra(edge, nodes, \"Amsterdam\", \"London\")\n",
    "print(\"path: \", path)\n"
   ]
  },
  {
   "cell_type": "markdown",
   "metadata": {
    "id": "aJXk3LjVHVbB"
   },
   "source": [
    "# Submission\n",
    "Submit this ```ipynb``` file to the course portal, with format: ```HandsOnWeek13_NIM_NamaLengkap.ipynb```. Make sure when submitting this file, each code cell has the outputs (not blank)."
   ]
  },
  {
   "cell_type": "markdown",
   "metadata": {},
   "source": [
    "Christopher Jeffrey 13520055"
   ]
  }
 ],
 "metadata": {
  "colab": {
   "provenance": []
  },
  "kernelspec": {
   "display_name": "Python 3 (ipykernel)",
   "language": "python",
   "name": "python3"
  },
  "language_info": {
   "codemirror_mode": {
    "name": "ipython",
    "version": 3
   },
   "file_extension": ".py",
   "mimetype": "text/x-python",
   "name": "python",
   "nbconvert_exporter": "python",
   "pygments_lexer": "ipython3",
   "version": "3.10.10"
  }
 },
 "nbformat": 4,
 "nbformat_minor": 4
}
